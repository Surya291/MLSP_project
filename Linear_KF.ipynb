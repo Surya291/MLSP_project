{
 "cells": [
  {
   "cell_type": "code",
   "execution_count": 129,
   "metadata": {},
   "outputs": [
    {
     "data": {
      "text/plain": [
       "<matplotlib.rc_context at 0x7f86a5520210>"
      ]
     },
     "execution_count": 129,
     "metadata": {},
     "output_type": "execute_result"
    }
   ],
   "source": [
    "import numpy as np\n",
    "from numpy import dot\n",
    "import matplotlib.pyplot as plt\n",
    "import math\n",
    "\n",
    "import sympy\n",
    "from IPython.display import display\n",
    "\n",
    "def randn():\n",
    "    return np.random.randn()\n",
    "\n",
    "plt.rc_context({'axes.edgecolor':'red', 'xtick.color':'cyan', 'ytick.color':'cyan'})"
   ]
  },
  {
   "cell_type": "code",
   "execution_count": 94,
   "metadata": {},
   "outputs": [],
   "source": [
    "#################################################\n",
    "#######  Simple Linear Kalman filter...\n",
    "################################################\n",
    "\n",
    "class KALMAN_FILTER:\n",
    "    def __init__(self,A,H, P = None,Q= None,R= None,B= None,U= None,X= None   ):\n",
    "        ### initial values \n",
    "        \n",
    "        self.n = A.shape[1]\n",
    "        \n",
    "        self.A = A\n",
    "        self.H = H\n",
    "        \n",
    "        self.P =  P if(P is not None) else np.eye(self.n)   \n",
    "        self.Q =  Q if(Q is not None) else np.eye(self.n)  \n",
    "        self.R =  R if(R is not None) else np.eye(self.n)  \n",
    "        self.B = B if(B is not None) else 0\n",
    "        self.U = U if(U is not None) else 0\n",
    "        self.X = X if(X is not None) else np.zeros((self.n, 1)) \n",
    "        \n",
    "    \n",
    "            \n",
    "    \n",
    "    def prediction(self):\n",
    "        ##################\n",
    "        X = self.X\n",
    "        P = self.P\n",
    "        A= self.A\n",
    "        Q= self.Q \n",
    "        B= self.B \n",
    "        U= self.U\n",
    "\n",
    "        ################3#\n",
    "        self.X = np.dot(A, X) + np.dot(B, U)\n",
    "        self.P = np.dot(A, np.dot(P, A.T)) + Q\n",
    "        \n",
    "        return self.X\n",
    "        \n",
    "    \n",
    "    def updation(self,Y):\n",
    "        \n",
    "        #################\n",
    "        X = self.X\n",
    "        \n",
    "        P = self.P\n",
    "        H = self.H\n",
    "        R = self.R       \n",
    "        ################\n",
    "        \n",
    "        if(Y.shape != np.dot(H,X).shape):\n",
    "            print(\"Error in updation, dim error\")\n",
    "            return\n",
    "        \n",
    "        V = Y - np.dot(H,X) ### innovation process\n",
    "        S = np.dot(H, np.dot(P,H.T)) + R  ### measure predictive cov\n",
    "        K = np.dot(P,np.dot(H.T,np.linalg.inv(S) ))\n",
    "        self.X = X + np.dot(K,V)\n",
    "        self.P = P - np.dot(K,np.dot(S,K.T))\n",
    "        \n",
    "         "
   ]
  },
  {
   "cell_type": "markdown",
   "metadata": {},
   "source": [
    "### Trajectory model generator (for which no-idealities are added later on..)"
   ]
  },
  {
   "cell_type": "code",
   "execution_count": 95,
   "metadata": {},
   "outputs": [],
   "source": [
    "#### Used for ball trajectory preparation,..  in vaccum\n",
    "\n",
    "def rk4(y, x, dx, f):\n",
    "    \"\"\"computes 4th order Runge-Kutta for dy/dx.\n",
    "    y is the initial value for y\n",
    "    x is the initial value for x\n",
    "    dx is the difference in x (e.g. the time step)\n",
    "    f is a callable function (y, x) that you supply to \n",
    "      compute dy/dx for the specified values.\n",
    "    \"\"\"\n",
    "    \n",
    "    k1 = dx * f(y, x)\n",
    "    k2 = dx * f(y + 0.5*k1, x + 0.5*dx)\n",
    "    k3 = dx * f(y + 0.5*k2, x + 0.5*dx)\n",
    "    k4 = dx * f(y + k3, x + dx)\n",
    "    \n",
    "    return y + (k1 + 2*k2 + 2*k3 + k4) / 6.\n",
    "\n",
    "def fx(x,t):\n",
    "    return fx.vel\n",
    "    \n",
    "def fy(y,t):\n",
    "    return fy.vel - 9.8*t\n",
    "\n",
    "\n",
    "class BallTrajectory2D(object):\n",
    "    def __init__(self, x0, y0, velocity, theta_deg=0., g=9.8, noise=[0.0, 0.0]):\n",
    "        self.x = x0\n",
    "        self.y = y0\n",
    "        self.t = 0        \n",
    "        theta = math.radians(theta_deg)\n",
    "        fx.vel = math.cos(theta) * velocity\n",
    "        fy.vel = math.sin(theta) * velocity        \n",
    "        self.g = g\n",
    "        self.noise = noise\n",
    "        \n",
    "        \n",
    "    def step(self, dt):\n",
    "        self.x = rk4(self.x, self.t, dt, fx)\n",
    "        self.y = rk4(self.y, self.t, dt, fy)\n",
    "        self.t += dt \n",
    "\n",
    "\n",
    "        return np.array([[self.x + randn()*self.noise[0], self.y + randn()*self.noise[1]]]).T"
   ]
  },
  {
   "cell_type": "markdown",
   "metadata": {},
   "source": [
    "###  KF for trajectory"
   ]
  },
  {
   "cell_type": "code",
   "execution_count": 96,
   "metadata": {},
   "outputs": [],
   "source": [
    "\n",
    "    \n",
    "def calculate_state_init(v0,x0,y0,theta):\n",
    "    theta_in_rad = theta * (2*np.pi/360)\n",
    "    vx = v0* np.math.cos(theta_in_rad)\n",
    "    vy = v0* np.math.sin(theta_in_rad)\n",
    "    return np.array([[x0,vx,y0,vy]]).T\n",
    "\n",
    "def kf_ball_trajectory(dt,r,theta,v0,x0,y0,q):\n",
    "    \n",
    "    #### Initial settings...\n",
    "    \n",
    "    A = np.array([[1,dt,0,0],[0,1,0,0],[0,0,1,dt],[0,0,0,1]])\n",
    "    ### init position using velocity and throwing position...\n",
    "    X_init = calculate_state_init(v0,x0,y0,theta)\n",
    "    \n",
    "    ### Control input\n",
    "    B = np.array([[0,0,0,0],[0,0,0,0],[0,0,0,0],[0,0,0,1]])  \n",
    "    U = np.array([[0,0,0,-9.8 * dt]]).T  ### here g = 9.8 is the control input\n",
    "    \n",
    "    ### Measurement \n",
    "    H = np.array([[1,0,0,0],[0,0,1,0]])  ### Measuring transformation\n",
    "    R = np.eye(2)*r    ### Cov of measurement noise\n",
    "    \n",
    "    ### Process noise can be seen as ov of weights of the filter\n",
    "    ### Prediction noise cov\n",
    "    Q = q*np.eye(4) \n",
    "    \n",
    "\n",
    "    \n",
    "    if(np.dot(A,X_init).shape != np.dot(B,U).shape):\n",
    "        print(\"Errrrrroooooorrrrr, Plss checke the dimm\")\n",
    "\n",
    "    \n",
    "    ### Initialisng kalman filter\n",
    "    kf = KALMAN_FILTER(A = A,H = H, P = None,Q = Q, R = R,B = B,U = U,X = X_init )\n",
    "    \n",
    "    return kf\n",
    "    \n"
   ]
  },
  {
   "cell_type": "markdown",
   "metadata": {},
   "source": [
    "### Implementation..  KF for predicting trajectory in vaccum"
   ]
  },
  {
   "cell_type": "code",
   "execution_count": 132,
   "metadata": {},
   "outputs": [
    {
     "data": {
      "image/png": "[encoded data removed]",
      "text/plain": [
       "<Figure size 432x288 with 1 Axes>"
      ]
     },
     "metadata": {
      "needs_background": "dark"
     },
     "output_type": "display_data"
    },
    {
     "data": {
      "text/plain": [
       "<Figure size 432x288 with 0 Axes>"
      ]
     },
     "metadata": {},
     "output_type": "display_data"
    }
   ],
   "source": [
    "x0 , y0 , v0 , theta = 0,0,50,50\n",
    "state_noise_ball = [1,1]\n",
    "dt = 0.1\n",
    "r,q = 0.5,.1\n",
    "#################################################\n",
    "\n",
    "\n",
    "## Init filter and trajectory meas\n",
    "kf = kf_ball_trajectory(dt = dt, r =  r, theta = theta, v0 = v0,x0 =  x0,y0 = y0,q = q)\n",
    "ball_pos = BallTrajectory2D(x0=x0, y0=y0, theta_deg=theta, velocity=v0, noise=state_noise_ball)\n",
    "\n",
    "##### looping until ball reaches grnd . i.e; y < 0\n",
    "y_meas = 0\n",
    "\n",
    "meas_list = []\n",
    "preds_list = []\n",
    "\n",
    "while ( y_meas >= 0):\n",
    "    meas = ball_pos.step(dt)\n",
    "    y_meas = meas[1]\n",
    "\n",
    "    meas_list.append(meas)\n",
    "    kf.updation(meas)\n",
    "\n",
    "\n",
    "    preds = np.dot(kf.H,kf.prediction())\n",
    "    preds_list.append(preds)\n",
    "\n",
    "meas_list = np.array(meas_list)\n",
    "preds_list = np.array(preds_list)\n",
    "plt.title(\"Ball in vaccum (Ideal parabolic path )\",color = 'cyan')\n",
    "plt.xlabel(\"Range\",color = 'cyan')\n",
    "plt.ylabel(\"Height\",color = 'cyan')\n",
    "plt.plot(meas_list[:,0],meas_list[:,1],label = \"Measurements\",color = 'r')\n",
    "plt.plot(preds_list[:,0],preds_list[:,1], label = \"Predictions\",color = 'w')\n",
    "plt.rcParams['axes.facecolor']='xkcd:sky blue'\n",
    "\n",
    "x = np.arange(0,np.amax(preds_list) + 5)\n",
    "plt.fill_between(x,-10, 0.1,color = '#288B22')\n",
    "plt.legend()\n",
    "plt.figure()\n",
    "plt.show()"
   ]
  },
  {
   "cell_type": "markdown",
   "metadata": {},
   "source": [
    "### Trajectory in air (with air drag acting..)   ... basic code"
   ]
  },
  {
   "cell_type": "code",
   "execution_count": 134,
   "metadata": {},
   "outputs": [
    {
     "data": {
      "text/plain": [
       "Text(0, 0.5, 'Height')"
      ]
     },
     "execution_count": 134,
     "metadata": {},
     "output_type": "execute_result"
    },
    {
     "data": {
      "image/png": "[encoded data removed]",
      "text/plain": [
       "<Figure size 432x288 with 1 Axes>"
      ]
     },
     "metadata": {
      "needs_background": "dark"
     },
     "output_type": "display_data"
    }
   ],
   "source": [
    "from math import sqrt, exp\n",
    "\n",
    "def mph_to_mps(x):   ### miles per hour to mts per sec\n",
    "    return x * .447\n",
    "\n",
    "def drag_force(velocity):\n",
    "    \"\"\" Returns the force on a baseball due to air drag at\n",
    "    the specified velocity. Units are SI\"\"\"\n",
    "\n",
    "    return velocity * (  0.0058 / \n",
    "            (1. + exp((velocity-35.)/5.)))### change 0.004\n",
    "\n",
    "#v = mph_to_mps(110.)\n",
    "def solve(x, y, vel, v_wind, launch_angle):\n",
    "    xs = []\n",
    "    ys = []\n",
    "    v_x = vel*np.cos(launch_angle)\n",
    "    v_y = vel*np.sin(launch_angle)\n",
    "    while y >= 0:\n",
    "        # Euler equations for x and y\n",
    "        x += v_x*dt\n",
    "        y += v_y*dt\n",
    "\n",
    "        # force due to air drag    \n",
    "        velocity = sqrt((v_x-v_wind)**2 + v_y**2)    \n",
    "        F = drag_force(velocity)\n",
    "\n",
    "        # euler's equations for vx and vy\n",
    "        v_x = v_x - F*(v_x-v_wind)*dt\n",
    "        v_y = v_y - 9.8*dt - F*v_y*dt\n",
    "        \n",
    "        xs.append(x)\n",
    "        ys.append(y)\n",
    "    \n",
    "    return xs, ys\n",
    "        \n",
    "\n",
    "\n",
    "###inputs\n",
    "\n",
    "dt = .1\n",
    "x,y,v = 0,0,50\n",
    "theta = np.radians(50)\n",
    "### Plotting with drag and without air\n",
    "x, y = solve(x=x, y=y, vel=v, v_wind=0, launch_angle=theta)\n",
    "p1 = plt.scatter(x, y, color='r', label='With drag',marker = '.')\n",
    "plt.scatter(meas_list[:,0],meas_list[:,1],label = \"Without drag \",color = 'w',marker = '.')\n",
    "x = np.arange(0,np.amax(preds_list) + 5)\n",
    "plt.fill_between(x,-10, 0.1,color = '#288B22')\n",
    "plt.legend()\n",
    "plt.title(\"Effect of air drag on the ball\",color = 'cyan')\n",
    "plt.xlabel(\"Range\",color = 'cyan')\n",
    "plt.ylabel(\"Height\",color = 'cyan')"
   ]
  },
  {
   "cell_type": "markdown",
   "metadata": {},
   "source": [
    "### Trajectory for accounting air drag .. used as meaurements."
   ]
  },
  {
   "cell_type": "code",
   "execution_count": 99,
   "metadata": {},
   "outputs": [],
   "source": [
    "class BaseballPath:\n",
    "    def __init__(self, x0, y0, launch_angle_deg, velocity_ms, \n",
    "                 noise=(1.0, 1.0)): \n",
    "        \"\"\" Create 2D baseball path object  \n",
    "           (x = distance from start point in ground plane, \n",
    "            y=height above ground)\n",
    "        \n",
    "        x0,y0            initial position\n",
    "        launch_angle_deg angle ball is travelling respective to \n",
    "                         ground plane\n",
    "        velocity_ms      speeed of ball in meters/second\n",
    "        noise            amount of noise to add to each position\n",
    "                         in (x, y)\n",
    "        \"\"\"\n",
    "        \n",
    "        omega = np.radians(launch_angle_deg)\n",
    "        self.v_x = velocity_ms * np.cos(omega)\n",
    "        self.v_y = velocity_ms * np.sin(omega)\n",
    "\n",
    "        self.x = x0\n",
    "        self.y = y0\n",
    "        self.noise = noise\n",
    "\n",
    "\n",
    "    def drag_force(self, velocity):\n",
    "        \"\"\" Returns the force on a baseball due to air drag at\n",
    "        the specified velocity. Units are SI\n",
    "        \"\"\"\n",
    "        B_m = 0.0039 + 0.0058 / (1. + np.exp((velocity-35.)/5.))\n",
    "        return B_m * velocity\n",
    "\n",
    "\n",
    "    def update(self, dt, vel_wind=0.):\n",
    "        \"\"\" compute the ball position based on the specified time \n",
    "        step and wind velocity. Returns (x, y) position tuple.\n",
    "        \"\"\"\n",
    "\n",
    "        # Euler equations for x and y\n",
    "        self.x += self.v_x*dt\n",
    "        self.y += self.v_y*dt\n",
    "\n",
    "        # force due to air drag\n",
    "        v_x_wind = self.v_x - vel_wind\n",
    "        v = sqrt(v_x_wind**2 + self.v_y**2)\n",
    "        F = self.drag_force(v)\n",
    "\n",
    "        # Euler's equations for velocity\n",
    "        self.v_x = self.v_x - F*v_x_wind*dt\n",
    "        self.v_y = self.v_y - 9.81*dt - F*self.v_y*dt\n",
    "        return np.array([[self.x + randn()*self.noise[0], self.y + randn()*self.noise[1]]]).T"
   ]
  },
  {
   "cell_type": "markdown",
   "metadata": {},
   "source": [
    "### Linear KF failing to predict non-linearity"
   ]
  },
  {
   "cell_type": "code",
   "execution_count": 136,
   "metadata": {},
   "outputs": [
    {
     "data": {
      "text/plain": [
       "<matplotlib.legend.Legend at 0x7f86a5398110>"
      ]
     },
     "execution_count": 136,
     "metadata": {},
     "output_type": "execute_result"
    },
    {
     "data": {
      "image/png": "[encoded data removed]",
      "text/plain": [
       "<Figure size 432x288 with 1 Axes>"
      ]
     },
     "metadata": {
      "needs_background": "dark"
     },
     "output_type": "display_data"
    }
   ],
   "source": [
    "\n",
    "x0 , y0 , v0 , theta = 0,0,50,50\n",
    "state_noise_ball = [.3,.3]\n",
    "dt = .1\n",
    "q1,q2 = 0,0\n",
    "r1,r2 = 5,.3\n",
    "\n",
    "f1 = kf_ball_trajectory(dt,   r1, theta, v0 ,x0 ,y0 ,q = q1)\n",
    "f2 = kf_ball_trajectory(dt = dt, r =  r2, theta = theta, v0 = v0,x0 =  x0,y0 = y0,q = q2)\n",
    "\n",
    "ball_pos = BaseballPath(x0=x0, y0=y0, launch_angle_deg=theta, velocity_ms=v0, noise=state_noise_ball)\n",
    "plt.figure()\n",
    "\n",
    "##### looping until ball reaches grnd . i.e; y < 0\n",
    "y_meas = 0\n",
    "\n",
    "t = 0\n",
    "\n",
    "meas_list = []\n",
    "preds_list_1 = []\n",
    "preds_list_2 = []\n",
    "\n",
    "while y_meas >= 0:\n",
    "    \n",
    "    meas = ball_pos.update(dt)\n",
    "    y_meas = meas[1]\n",
    "    meas_list.append(meas)\n",
    "\n",
    "    f1.updation(meas)\n",
    "    f2.updation(meas)\n",
    "    \n",
    "    preds_1 = np.dot(f1.H,f1.prediction())\n",
    "    preds_list_1.append(preds_1)\n",
    "    \n",
    "    preds_2 = np.dot(f2.H,f2.prediction())\n",
    "    preds_list_2.append(preds_2)\n",
    "\n",
    "meas_list = np.array(meas_list)\n",
    "preds_list_1 = np.array(preds_list_1)\n",
    "preds_list_2 = np.array(preds_list_2)\n",
    "\n",
    "plt.plot(meas_list[:,0],meas_list[:,1],label = \"Measurements\",color = 'r')\n",
    "plt.plot(preds_list_1[:,0],preds_list_1[:,1], label = \" KF with r = %.2f\"%r1,color = 'white')\n",
    "plt.plot(preds_list_2[:,0],preds_list_2[:,1], label = \"KF with r = %.2f\"%r2,color = 'black')\n",
    "\n",
    "\n",
    "x = np.arange(0,np.amax(preds_list_1) + 5)\n",
    "plt.fill_between(x,-10, 0.1,color = '#288B22')\n",
    "plt.title(\"Tracking ball in air (with Air drag) using KF with different R\",color='cyan')\n",
    "plt.xlabel(\"Range\",color='cyan')\n",
    "plt.ylabel(\"Height\",color='cyan')\n",
    "plt.legend()"
   ]
  },
  {
   "cell_type": "markdown",
   "metadata": {},
   "source": [
    "### Using Q to model the non-linearity"
   ]
  },
  {
   "cell_type": "code",
   "execution_count": 137,
   "metadata": {},
   "outputs": [
    {
     "data": {
      "text/plain": [
       "<matplotlib.legend.Legend at 0x7f86a5324a10>"
      ]
     },
     "execution_count": 137,
     "metadata": {},
     "output_type": "execute_result"
    },
    {
     "data": {
      "image/png": "[encoded data removed]",
      "text/plain": [
       "<Figure size 432x288 with 1 Axes>"
      ]
     },
     "metadata": {
      "needs_background": "dark"
     },
     "output_type": "display_data"
    }
   ],
   "source": [
    "\n",
    "x0 , y0 , v0 , theta = 0,0,50,50\n",
    "state_noise_ball = [1,1]   ### high noise to state the down side of Q\n",
    "dt = .1\n",
    "q1,q2 = 1,0\n",
    "r1,r2 = .3,.3\n",
    "\n",
    "f1 = kf_ball_trajectory(dt,   r1, theta, v0 ,x0 ,y0 ,q = q1)\n",
    "f2 = kf_ball_trajectory(dt = dt, r =  r2, theta = theta, v0 = v0,x0 =  x0,y0 = y0,q = q2)\n",
    "\n",
    "ball_pos = BaseballPath(x0=x0, y0=y0, launch_angle_deg=theta, velocity_ms=v0, noise=state_noise_ball)\n",
    "plt.figure()\n",
    "\n",
    "##### looping until ball reaches grnd . i.e; y < 0\n",
    "y_meas = 0\n",
    "\n",
    "t = 0\n",
    "\n",
    "meas_list = []\n",
    "preds_list_1 = []\n",
    "preds_list_2 = []\n",
    "\n",
    "while y_meas >= 0:\n",
    "    \n",
    "    meas = ball_pos.update(dt)\n",
    "    y_meas = meas[1]\n",
    "    meas_list.append(meas)\n",
    "\n",
    "    f1.updation(meas)\n",
    "    f2.updation(meas)\n",
    "    \n",
    "    preds_1 = np.dot(f1.H,f1.prediction())\n",
    "    preds_list_1.append(preds_1)\n",
    "    \n",
    "    preds_2 = np.dot(f2.H,f2.prediction())\n",
    "    preds_list_2.append(preds_2)\n",
    "\n",
    "meas_list = np.array(meas_list)\n",
    "preds_list_1 = np.array(preds_list_1)\n",
    "preds_list_2 = np.array(preds_list_2)\n",
    "\n",
    "plt.plot(meas_list[:,0],meas_list[:,1],label = \"Measurements\",color = 'r')\n",
    "plt.plot(preds_list_1[:,0],preds_list_1[:,1], label = \" KF with q = %.2f\"%q1,color = 'white')\n",
    "plt.plot(preds_list_2[:,0],preds_list_2[:,1], label = \"KF with q = %.2f\"%q2,color = 'black')\n",
    "\n",
    "\n",
    "x = np.arange(0,np.amax(preds_list_2) + 5)\n",
    "plt.fill_between(x,-10, 0.1,color = '#288B22')\n",
    "plt.title(\"Tracking ball(with high noise) using KF with different Q\",color = 'cyan')\n",
    "plt.xlabel(\"Range\",color = 'cyan')\n",
    "plt.ylabel(\"Height\",color = 'cyan')\n",
    "plt.legend()"
   ]
  }
 ],
 "metadata": {
  "kernelspec": {
   "display_name": "Python 3",
   "language": "python",
   "name": "python3"
  },
  "language_info": {
   "codemirror_mode": {
    "name": "ipython",
    "version": 3
   },
   "file_extension": ".py",
   "mimetype": "text/x-python",
   "name": "python",
   "nbconvert_exporter": "python",
   "pygments_lexer": "ipython3",
   "version": "3.7.7"
  }
 },
 "nbformat": 4,
 "nbformat_minor": 4
}
